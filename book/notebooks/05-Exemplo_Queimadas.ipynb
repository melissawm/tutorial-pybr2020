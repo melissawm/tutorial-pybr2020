{
 "cells": [
  {
   "cell_type": "markdown",
   "metadata": {},
   "source": [
    "# Queimadas"
   ]
  },
  {
   "cell_type": "markdown",
   "metadata": {},
   "source": [
    "Dados do INPE: http://queimadas.dgi.inpe.br/queimadas/bdqueimadas/\n",
    "\n",
    "Dados da NASA: https://firms.modaps.eosdis.nasa.gov/"
   ]
  },
  {
   "cell_type": "code",
   "execution_count": null,
   "metadata": {},
   "outputs": [],
   "source": [
    "!ls"
   ]
  },
  {
   "cell_type": "code",
   "execution_count": null,
   "metadata": {},
   "outputs": [],
   "source": [
    "zipfile_inpe = \"Focos_BDQueimadas.zip\""
   ]
  },
  {
   "cell_type": "code",
   "execution_count": null,
   "metadata": {},
   "outputs": [],
   "source": [
    "from zipfile import ZipFile"
   ]
  },
  {
   "cell_type": "code",
   "execution_count": null,
   "metadata": {},
   "outputs": [],
   "source": [
    "with ZipFile(zipfile_inpe, 'r') as zip: \n",
    "    zip.printdir() \n",
    "    print(f'Extracting file {zipfile_inpe} now...') \n",
    "    zip.extractall(path=\"dados\") \n",
    "    print('Done!')"
   ]
  },
  {
   "cell_type": "code",
   "execution_count": null,
   "metadata": {},
   "outputs": [],
   "source": [
    "!ls dados"
   ]
  },
  {
   "cell_type": "code",
   "execution_count": null,
   "metadata": {},
   "outputs": [],
   "source": [
    "import os\n",
    "csv_inpe = os.path.join(\"dados\", \"Focos_2020-07-01_2020-09-30.csv\")"
   ]
  },
  {
   "cell_type": "code",
   "execution_count": null,
   "metadata": {},
   "outputs": [],
   "source": [
    "with open(csv_inpe, 'r') as f:\n",
    "    data = f.readlines()"
   ]
  },
  {
   "cell_type": "code",
   "execution_count": null,
   "metadata": {},
   "outputs": [],
   "source": [
    "print(data[0:10])"
   ]
  },
  {
   "cell_type": "code",
   "execution_count": null,
   "metadata": {},
   "outputs": [],
   "source": [
    "import pandas as pd"
   ]
  },
  {
   "cell_type": "code",
   "execution_count": null,
   "metadata": {},
   "outputs": [],
   "source": [
    "with open(csv_inpe, 'r') as f:\n",
    "    df = pd.read_csv(f)"
   ]
  },
  {
   "cell_type": "code",
   "execution_count": null,
   "metadata": {},
   "outputs": [],
   "source": [
    "df"
   ]
  },
  {
   "cell_type": "code",
   "execution_count": null,
   "metadata": {},
   "outputs": [],
   "source": [
    "df = df[df['riscofogo']!=0.0]"
   ]
  },
  {
   "cell_type": "code",
   "execution_count": null,
   "metadata": {},
   "outputs": [],
   "source": [
    "df['satelite'].unique()"
   ]
  },
  {
   "cell_type": "code",
   "execution_count": null,
   "metadata": {},
   "outputs": [],
   "source": [
    "df = df[df['satelite']=='TERRA_M-M']"
   ]
  },
  {
   "cell_type": "code",
   "execution_count": null,
   "metadata": {},
   "outputs": [],
   "source": [
    "del df['satelite']\n",
    "del df['pais']"
   ]
  },
  {
   "cell_type": "code",
   "execution_count": null,
   "metadata": {},
   "outputs": [],
   "source": [
    "df"
   ]
  },
  {
   "cell_type": "markdown",
   "metadata": {},
   "source": [
    "FRP: https://revistapesquisa.fapesp.br/como-monitorar-o-fogo/\n",
    "\n",
    "Risco de Queima: http://queimadas.dgi.inpe.br/queimadas/portal/informacoes/perguntas-frequentes#p23\n",
    "\n",
    "Monografia: https://monografias.ufrn.br/jspui/bitstream/123456789/9704/1/tcc_dias_alexandre_henrique.pdf"
   ]
  },
  {
   "cell_type": "code",
   "execution_count": null,
   "metadata": {},
   "outputs": [],
   "source": [
    "%matplotlib widget\n",
    "from ipyleaflet import Map, Marker, CircleMarker\n",
    "\n",
    "center = (-11.7997134,-53.8335376)\n",
    "\n",
    "m = Map(center=center, zoom=3)\n",
    "\n",
    "#marker = Marker(location=center, draggable=True)\n",
    "#m.add_layer(marker);\n",
    "\n",
    "display(m)"
   ]
  },
  {
   "cell_type": "code",
   "execution_count": null,
   "metadata": {},
   "outputs": [],
   "source": [
    "frp_notnull = df[df['frp'].notnull()]\n",
    "frp_notnull = frp_notnull.loc[frp_notnull['datahora'].str.contains('2020/09/30')]"
   ]
  },
  {
   "cell_type": "code",
   "execution_count": null,
   "metadata": {},
   "outputs": [],
   "source": [
    "for index, row in frp_notnull.iterrows():\n",
    "    lat = row['latitude']\n",
    "    lon = row['longitude']\n",
    "    circle_marker = CircleMarker()\n",
    "    circle_marker.location = (lat, lon)\n",
    "    circle_marker.radius = 1\n",
    "    circle_marker.color = \"red\"\n",
    "    circle_marker.fill_color = \"red\"\n",
    "    circle_marker.weight = 1\n",
    "    m.add_layer(circle_marker)"
   ]
  },
  {
   "cell_type": "markdown",
   "metadata": {},
   "source": [
    "- para uma mesma cidade, pegar o risco em função do tempo\n",
    "- para um grupo de cidades plotar o risco em um mesmo gráfico"
   ]
  },
  {
   "cell_type": "code",
   "execution_count": null,
   "metadata": {},
   "outputs": [],
   "source": [
    "lista_municipios = df['municipio'].unique()\n",
    "type(lista_municipios), len(lista_municipios)"
   ]
  },
  {
   "cell_type": "code",
   "execution_count": null,
   "metadata": {},
   "outputs": [],
   "source": [
    "corumba = df[df['municipio'] == \"CORUMBA\"]\n",
    "corumba"
   ]
  },
  {
   "cell_type": "code",
   "execution_count": null,
   "metadata": {},
   "outputs": [],
   "source": [
    "riscofogo = corumba['riscofogo']\n",
    "diasemchuva = corumba['diasemchuva']"
   ]
  },
  {
   "cell_type": "code",
   "execution_count": null,
   "metadata": {},
   "outputs": [],
   "source": [
    "import numpy as np\n",
    "corumba = corumba.replace(-999, np.nan)"
   ]
  },
  {
   "cell_type": "code",
   "execution_count": null,
   "metadata": {},
   "outputs": [],
   "source": [
    "agrupado = corumba.groupby('datahora').mean()"
   ]
  },
  {
   "cell_type": "code",
   "execution_count": null,
   "metadata": {},
   "outputs": [],
   "source": [
    "agrupado"
   ]
  },
  {
   "cell_type": "code",
   "execution_count": null,
   "metadata": {},
   "outputs": [],
   "source": [
    "datas = list(agrupado.index)\n",
    "datas = [item[0:10] for item in datas]\n",
    "datas\n",
    "len(datas)"
   ]
  },
  {
   "cell_type": "code",
   "execution_count": null,
   "metadata": {},
   "outputs": [],
   "source": [
    "import matplotlib.pyplot as plt\n",
    "\n",
    "fig, ax = plt.subplots(2, 1, figsize=(8, 6))\n",
    "ax[0].plot(agrupado['riscofogo'], 'r')\n",
    "ax[1].plot(agrupado['diasemchuva'], 'bo')\n",
    "\n",
    "# Preparar rótulos da primeira imagem\n",
    "ax[0].set_xticks(range(len(datas))[::10]);\n",
    "ax[0].set_xticklabels(datas[::10], rotation=30)\n",
    "\n",
    "# Preparar rótulos da segunda imagem\n",
    "ax[1].set_xticks(range(len(datas))[::10]);\n",
    "ax[1].set_xticklabels(datas[::10], rotation=30)\n",
    "\n",
    "fig.tight_layout()"
   ]
  },
  {
   "cell_type": "code",
   "execution_count": null,
   "metadata": {},
   "outputs": [],
   "source": [
    "fig, ax = plt.subplots(figsize=(8, 4))\n",
    "\n",
    "ax.plot(agrupado['riscofogo'], 'r')\n",
    "plt.draw()\n",
    "\n",
    "ax2 = ax.twinx()  # instantiate a second axes that shares the same x-axis\n",
    "ax2.plot(agrupado['diasemchuva'], 'bo')\n",
    "\n",
    "ax2.set_xticks(range(len(datas))[::10]);\n",
    "ax.set_xticklabels(datas[::10], rotation=30);\n",
    "\n",
    "ax.legend(['Risco Fogo'], loc='upper left')\n",
    "ax2.legend(['Dias sem chuva'], loc='upper right')\n",
    "\n",
    "ax.set_title('Dados INPE sobre queimadas em Corumba, MS')\n",
    "ax.set_ylabel('Risco fogo')\n",
    "ax2.set_ylabel('Dias sem chuva')\n",
    "fig.tight_layout()"
   ]
  },
  {
   "cell_type": "markdown",
   "metadata": {},
   "source": [
    "[Voltar ao notebook principal](00-Tutorial_Python_Brasil_2020.ipynb)\n",
    "\n",
    "[Ir para o notebook SciPy](06-Tutorial_SciPy.ipynb)"
   ]
  },
  {
   "cell_type": "code",
   "execution_count": null,
   "metadata": {},
   "outputs": [],
   "source": []
  }
 ],
 "metadata": {
  "kernelspec": {
   "display_name": "Python 3",
   "language": "python",
   "name": "python3"
  },
  "language_info": {
   "codemirror_mode": {
    "name": "ipython",
    "version": 3
   },
   "file_extension": ".py",
   "mimetype": "text/x-python",
   "name": "python",
   "nbconvert_exporter": "python",
   "pygments_lexer": "ipython3",
   "version": "3.7.8"
  }
 },
 "nbformat": 4,
 "nbformat_minor": 4
}
