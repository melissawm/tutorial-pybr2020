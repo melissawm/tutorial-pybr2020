{
 "cells": [
  {
   "cell_type": "markdown",
   "metadata": {},
   "source": [
    "# Exemplo: Regressão usando 3 métodos"
   ]
  },
  {
   "cell_type": "code",
   "execution_count": null,
   "metadata": {},
   "outputs": [],
   "source": [
    "%matplotlib widget\n",
    "import numpy as np\n",
    "from scipy.interpolate import interp1d\n",
    "import matplotlib.pyplot as plt\n",
    "\n",
    "# Criação de dados\n",
    "x = np.arange(10)\n",
    "y = x + 5*np.random.rand(10) - 6*np.random.rand(10)\n",
    "\n",
    "# Regressão Linear\n",
    "(a_linear, b_linear) = np.polyfit(x, y, 1)\n",
    "# Ajuste quadrático\n",
    "(a_quad, b_quad, c_quad) = np.polyfit(x, y, 2)\n",
    "# Interpolação\n",
    "f = interp1d(x, y)\n",
    "\n",
    "# Gráfico\n",
    "t = np.linspace(0, 9, 50)\n",
    "plt.title('Exemplo: ajuste de curvas')\n",
    "plt.plot(x, y, 'r*')\n",
    "plt.plot(t, a_linear*t+b_linear,'g')\n",
    "plt.plot(t, a_quad*t**2+b_quad*t+c_quad, 'm')\n",
    "plt.plot(t, f(t), 'b')\n",
    "plt.legend(['linear', 'quadrático', 'interpolação'])\n",
    "plt.show();"
   ]
  },
  {
   "cell_type": "code",
   "execution_count": null,
   "metadata": {},
   "outputs": [],
   "source": []
  }
 ],
 "metadata": {
  "kernelspec": {
   "display_name": "Python 3",
   "language": "python",
   "name": "python3"
  },
  "language_info": {
   "codemirror_mode": {
    "name": "ipython",
    "version": 3
   },
   "file_extension": ".py",
   "mimetype": "text/x-python",
   "name": "python",
   "nbconvert_exporter": "python",
   "pygments_lexer": "ipython3",
   "version": "3.7.8"
  }
 },
 "nbformat": 4,
 "nbformat_minor": 4
}
