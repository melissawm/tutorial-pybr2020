{
 "cells": [
  {
   "cell_type": "markdown",
   "metadata": {},
   "source": [
    "# O Ecossistema Científico no Python"
   ]
  },
  {
   "cell_type": "markdown",
   "metadata": {},
   "source": [
    "```python\n",
    "import numpy as np\n",
    "import scipy as sp\n",
    "import matplotlib as mpl\n",
    "```"
   ]
  },
  {
   "cell_type": "markdown",
   "metadata": {},
   "source": [
    "---"
   ]
  },
  {
   "cell_type": "code",
   "execution_count": null,
   "metadata": {},
   "outputs": [],
   "source": [
    "#! cp /home/shared/tutorial.zip .\n",
    "#! unzip tutorial.zip"
   ]
  },
  {
   "cell_type": "markdown",
   "metadata": {
    "tags": [
     "chapter"
    ]
   },
   "source": [
    "## Introdução\n",
    "\n",
    "- [Quem sou eu?](https://github.com/melissawm) 👋\n",
    "- [Código de Conduta](https://python.org.br/cdc/) 🤝"
   ]
  },
  {
   "cell_type": "markdown",
   "metadata": {
    "tags": [
     "section"
    ]
   },
   "source": [
    "### O que é esse tutorial?"
   ]
  },
  {
   "cell_type": "markdown",
   "metadata": {},
   "source": [
    "- Primeiro contato\n",
    "- Conceitos básicos e quando usar essas bibliotecas\n",
    "- Onde buscar ajuda"
   ]
  },
  {
   "cell_type": "code",
   "execution_count": null,
   "metadata": {},
   "outputs": [],
   "source": [
    "from IPython.display import Image\n",
    "Image(url=\"https://i.imgur.com/MBQqSmT.jpg\", width=600)"
   ]
  },
  {
   "cell_type": "markdown",
   "metadata": {},
   "source": [
    "---"
   ]
  },
  {
   "cell_type": "markdown",
   "metadata": {
    "tags": [
     "section"
    ]
   },
   "source": [
    "### Computação Científica"
   ]
  },
  {
   "cell_type": "code",
   "execution_count": null,
   "metadata": {},
   "outputs": [],
   "source": [
    "Image(\"imagens/comp_cientifica.png\", width=600)"
   ]
  },
  {
   "cell_type": "markdown",
   "metadata": {},
   "source": [
    "Na prática..."
   ]
  },
  {
   "cell_type": "code",
   "execution_count": null,
   "metadata": {},
   "outputs": [],
   "source": [
    "Image(\"imagens/comp_cientifica_2.png\", width=600)"
   ]
  },
  {
   "cell_type": "markdown",
   "metadata": {},
   "source": [
    "*Baseado [nessa imagem](https://agilescientific.com/blog/2018/1/10/what-is-scientific-computing)*"
   ]
  },
  {
   "cell_type": "markdown",
   "metadata": {},
   "source": [
    "---"
   ]
  },
  {
   "cell_type": "markdown",
   "metadata": {
    "tags": [
     "section"
    ]
   },
   "source": [
    "### O que é o ecossistema científico do Python? Quem mora nele?"
   ]
  },
  {
   "cell_type": "code",
   "execution_count": null,
   "metadata": {},
   "outputs": [],
   "source": [
    "Image(url=\"https://media.springernature.com/full/springer-static/image/art%3A10.1038%2Fs41586-020-2649-2/MediaObjects/41586_2020_2649_Fig2_HTML.png\", width=600)"
   ]
  },
  {
   "cell_type": "markdown",
   "metadata": {},
   "source": [
    "*Fonte: Harris et al., \"Array Programming with NumPy\", Nature volume 585, pages 357–362 (2020)*"
   ]
  },
  {
   "cell_type": "markdown",
   "metadata": {},
   "source": [
    "#### Histórico\n",
    "\n",
    "- BLAS (1979) - especificação de rotinas de baixo nível para operações comuns de álgebra linear\n",
    "- LAPACK\n",
    "- MATLAB\n",
    "- Python\n",
    "    - Numeric/Numarray\n",
    "    - NumPy (2005)"
   ]
  },
  {
   "cell_type": "markdown",
   "metadata": {},
   "source": [
    "#### Linguagens e habilidades\n",
    "\n",
    "| github.com/numpy/numpy | github.com/scipy/scipy |\n",
    "--------|---------------------------------------\n",
    "| ![](https://i.imgur.com/z6zsl4Q.png) | ![](https://i.imgur.com/HJWrdZr.png) |\n",
    "\n",
    "- Documentação/Escrita técnica\n",
    "- Desenvolvimento Web\n",
    "- Design/UX\n",
    "- Comunicação\n",
    "- Gerenciamento de projetos"
   ]
  },
  {
   "cell_type": "markdown",
   "metadata": {},
   "source": [
    "#### Comunidades: usuários e desenvolvedores\n",
    "\n",
    "- Cientistas\n",
    "- Pessoas da indústria\n",
    "- Voluntários\n",
    "- Bolsas, patrocínio, doações"
   ]
  },
  {
   "cell_type": "markdown",
   "metadata": {},
   "source": [
    "---"
   ]
  },
  {
   "cell_type": "markdown",
   "metadata": {
    "tags": [
     "section"
    ]
   },
   "source": [
    "## Conteúdo"
   ]
  },
  {
   "cell_type": "markdown",
   "metadata": {},
   "source": [
    "- [Parte 1. NumPy](01-Tutorial_NumPy.ipynb)\n",
    "\n",
    "\n",
    "- [Parte 2. Matplotlib](02-Tutorial_Matplotlib.ipynb)\n",
    "\n",
    "\n",
    "- Parte 3. Exemplos práticos\n",
    "\n",
    "    - [Arrays com máscara (masked arrays)](03-Exemplo_Masked_Arrays.ipynb)\n",
    "    - [Aproximação de imagens usando a SVD](04-Exemplo_SVD.ipynb)\n",
    "    - [Queimadas](05-Exemplo_Queimadas.ipynb)\n",
    "\n",
    "\n",
    "- [Parte 4. SciPy](06-Tutorial_SciPy.ipynb)\n",
    "    - [Regressão](07-Exemplo_Regressao.ipynb)\n",
    "    "
   ]
  },
  {
   "cell_type": "markdown",
   "metadata": {},
   "source": [
    "---"
   ]
  },
  {
   "cell_type": "markdown",
   "metadata": {},
   "source": [
    "## Para terminar..."
   ]
  },
  {
   "cell_type": "code",
   "execution_count": null,
   "metadata": {},
   "outputs": [],
   "source": [
    "Image(url=\"https://pics.me.me/lee-lee-dibango-pmishraworld-math-problem-2-2-me-import-numpy-35881429.png\", width=600)"
   ]
  },
  {
   "cell_type": "markdown",
   "metadata": {
    "tags": [
     "chapter"
    ]
   },
   "source": [
    "## Outras ferramentas\n",
    "\n",
    "- [Pandas](https://pandas.pydata.org/https://pandas.pydata.org/)\n",
    "- [SymPy](https://www.sympy.org/pt/index.htmlhttps://www.sympy.org/pt/index.html)\n",
    "- [scikit-learn](https://scikit-learn.orghttps://scikit-learn.org)\n",
    "- [scikit-image](https://scikit-image.org/https://scikit-image.org/)\n",
    "- [Dask](https://dask.org/https://dask.org/)\n",
    "- [PyTorch](https://pytorch.org/https://pytorch.org/)\n",
    "- [TensorFlow](https://www.tensorflow.orghttps://www.tensorflow.org)\n",
    "- [Julia](https://julialang.org/https://julialang.org/)\n",
    "- [Fortran](https://fortran-lang.org/https://fortran-lang.org/)"
   ]
  },
  {
   "cell_type": "markdown",
   "metadata": {},
   "source": [
    "## Referências\n"
   ]
  },
  {
   "cell_type": "markdown",
   "metadata": {},
   "source": [
    "Algumas referências interessantes e caminhos para mais informações além da documentação oficial."
   ]
  },
  {
   "cell_type": "markdown",
   "metadata": {},
   "source": [
    "- [From Python to NumPy](https://github.com/rougier/from-python-to-numpy), livro aberto de Nicolas Rougier.\n",
    "- [SciPy Lecture Notes](https://scipy-lectures.org/)\n",
    "- [Elegant SciPy](https://github.com/elegant-scipy/elegant-scipy), livro aberto de Juan Nunez-Iglesias, Harriet Dashnow and Stéfan van der Walt (também publicado pela O'Reilly)"
   ]
  },
  {
   "cell_type": "markdown",
   "metadata": {
    "tags": [
     "chapter"
    ]
   },
   "source": [
    "## Obrigada! 💖\n",
    "\n",
    "`@melissawm`"
   ]
  }
 ],
 "metadata": {
  "kernelspec": {
   "display_name": "Python 3",
   "language": "python",
   "name": "python3"
  },
  "language_info": {
   "codemirror_mode": {
    "name": "ipython",
    "version": 3
   },
   "file_extension": ".py",
   "mimetype": "text/x-python",
   "name": "python",
   "nbconvert_exporter": "python",
   "pygments_lexer": "ipython3",
   "version": "3.7.8"
  },
  "toc-showtags": true
 },
 "nbformat": 4,
 "nbformat_minor": 4
}
